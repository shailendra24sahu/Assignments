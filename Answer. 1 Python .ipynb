{
 "cells": [
  {
   "cell_type": "markdown",
   "id": "6c8d9028",
   "metadata": {},
   "source": [
    "Q1. Write a program that takes a string as input, and counts the frequency of each word in the string, there might\n",
    "be repeated characters in the string. Your task is to find the highest frequency and returns the length of the\n",
    "highest-frequency word."
   ]
  },
  {
   "cell_type": "markdown",
   "id": "fcaf6f17",
   "metadata": {},
   "source": [
    "Note - You have to write at least 2 additional test cases in which your program will run successfully and provide\n",
    "an explanation for the same.\n",
    "Example input - string = “write write write all the number from from from 1 to 100”\n",
    "Example output - 5\n",
    "Explanation - From the given string we can note that the most frequent words are “write” and “from” and\n",
    "the maximum value of both the values is “write” and its corresponding length is 5\n"
   ]
  },
  {
   "cell_type": "code",
   "execution_count": 2,
   "id": "5bd5fba5",
   "metadata": {},
   "outputs": [
    {
     "name": "stdout",
     "output_type": "stream",
     "text": [
      "Enter a string: write write write all the number from from from 1 to 100 write\n",
      "Length of the highest-frequency word: 5\n"
     ]
    }
   ],
   "source": [
    "from collections import Counter\n",
    "\n",
    "def highest_frequency_word_length(input_string):\n",
    "    words = input_string.split()\n",
    "    word_counts = Counter(words)\n",
    "    \n",
    "    max_frequency = max(word_counts.values())\n",
    "\n",
    "    # Find the length of the highest-frequency word\n",
    "    highest_frequency_word_length = max(len(word) for word, count in word_counts.items() if count == max_frequency)\n",
    "\n",
    "    return highest_frequency_word_length\n",
    "\n",
    "# Test the function\n",
    "input_string = input(\"Enter a string: \")\n",
    "result = highest_frequency_word_length(input_string)\n",
    "print(\"Length of the highest-frequency word:\", result)"
   ]
  },
  {
   "cell_type": "code",
   "execution_count": 3,
   "id": "26dcf07f",
   "metadata": {},
   "outputs": [
    {
     "name": "stdout",
     "output_type": "stream",
     "text": [
      "Enter a string: this is an example of an example has this is called\n",
      "Length of the highest-frequency word: 7\n"
     ]
    }
   ],
   "source": [
    "input_string = input(\"Enter a string: \")\n",
    "result = highest_frequency_word_length(input_string)\n",
    "print(\"Length of the highest-frequency word:\", result)"
   ]
  },
  {
   "cell_type": "markdown",
   "id": "0340187c",
   "metadata": {},
   "source": [
    "In the above sentence, \"this,is,example\" have repeated two times each. so the programme has returned 'example' as the highest frequency and its length ie. 7"
   ]
  },
  {
   "cell_type": "code",
   "execution_count": 4,
   "id": "09654324",
   "metadata": {},
   "outputs": [
    {
     "name": "stdout",
     "output_type": "stream",
     "text": [
      "Enter a string: python is a language which is called good one.\n",
      "Length of the highest-frequency word: 2\n"
     ]
    }
   ],
   "source": [
    "input_string = input(\"Enter a string: \")\n",
    "result = highest_frequency_word_length(input_string)\n",
    "print(\"Length of the highest-frequency word:\", result)"
   ]
  },
  {
   "cell_type": "markdown",
   "id": "9f58f962",
   "metadata": {},
   "source": [
    "In the above sentence is has repeated two times. so the programme has returned 'is' as the highest frequency and its length ie. 2"
   ]
  }
 ],
 "metadata": {
  "kernelspec": {
   "display_name": "Python 3 (ipykernel)",
   "language": "python",
   "name": "python3"
  },
  "language_info": {
   "codemirror_mode": {
    "name": "ipython",
    "version": 3
   },
   "file_extension": ".py",
   "mimetype": "text/x-python",
   "name": "python",
   "nbconvert_exporter": "python",
   "pygments_lexer": "ipython3",
   "version": "3.9.12"
  }
 },
 "nbformat": 4,
 "nbformat_minor": 5
}
