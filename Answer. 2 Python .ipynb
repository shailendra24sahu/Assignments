{
 "cells": [
  {
   "cell_type": "markdown",
   "id": "0865aa01",
   "metadata": {},
   "source": [
    "Question 2: -\n",
    "Consider a string to be valid if all characters of the string appear the same number of times. It is also valid if\n",
    "he can remove just one character at the index in the string, and the remaining characters will occur the same\n",
    "number of times. Given a string, determine if it is valid. If so, return YES , otherwise return NO .\n",
    "\n",
    "- Note - You have to write at least 2 additional test cases in which your program will run successfully and provide\n",
    "an explanation for the same.\n",
    "Example input 1 - s = “abc”. This is a valid string because frequencies are { “a”: 1, “b”: 1, “c”: 1 }\n",
    "Example output 1- YES\n",
    "Example input 2 - s “abcc”. This string is not valid as we can remove only 1 occurrence of “c”. That leaves\n",
    "character frequencies of { “a”: 1, “b”: 1 , “c”: 2 }\n",
    "Example output 2 - NO\n"
   ]
  },
  {
   "cell_type": "code",
   "execution_count": null,
   "id": "ef6cc362",
   "metadata": {},
   "outputs": [],
   "source": []
  },
  {
   "cell_type": "code",
   "execution_count": 1,
   "id": "dd6e3f1d",
   "metadata": {},
   "outputs": [
    {
     "name": "stdout",
     "output_type": "stream",
     "text": [
      "Enter a string: abc\n",
      "YES\n"
     ]
    }
   ],
   "source": [
    "from collections import Counter\n",
    "\n",
    "def is_valid_string(input_string):\n",
    "    char_counts = Counter(input_string)\n",
    "    counts = list(char_counts.values())\n",
    "\n",
    "    # Count the number of unique frequencies\n",
    "    unique_counts = set(counts)\n",
    "\n",
    "    if len(unique_counts) == 1:\n",
    "        # If all characters have the same frequency, the string is valid\n",
    "        return \"YES\"\n",
    "    elif len(unique_counts) == 2:\n",
    "        # If there are exactly two unique frequencies, check if removing one character can make the string valid\n",
    "        max_count = max(unique_counts)\n",
    "        min_count = min(unique_counts)\n",
    "        if counts.count(max_count) == 1 and max_count - min_count == 1:\n",
    "            # If there is only one character with the maximum frequency and \n",
    "            #the difference between the maximum and minimum frequencies is 1, the string is valid\n",
    "            return \"YES\"\n",
    "        elif counts.count(min_count) == 1 and min_count == 1:\n",
    "            # If there is only one character with the minimum frequency and its frequency is 1, the string is valid\n",
    "            return \"YES\"\n",
    "\n",
    "    # Otherwise, the string is not valid\n",
    "    return \"NO\"\n",
    "\n",
    "# Test the function\n",
    "input_string = input(\"Enter a string: \")\n",
    "result = is_valid_string(input_string)\n",
    "print(result)"
   ]
  },
  {
   "cell_type": "code",
   "execution_count": 2,
   "id": "47784146",
   "metadata": {},
   "outputs": [
    {
     "name": "stdout",
     "output_type": "stream",
     "text": [
      "Enter a string: abcc\n",
      "YES\n"
     ]
    }
   ],
   "source": [
    "input_string = input(\"Enter a string: \")\n",
    "result = is_valid_string(input_string)\n",
    "print(result)"
   ]
  },
  {
   "cell_type": "markdown",
   "id": "7f9ed3c2",
   "metadata": {},
   "source": [
    "this string \"abcc\" is valid, because when we remove 1 occurance of c then string will become \"abc\" which is valid"
   ]
  },
  {
   "cell_type": "code",
   "execution_count": 4,
   "id": "c8f9eed3",
   "metadata": {},
   "outputs": [
    {
     "name": "stdout",
     "output_type": "stream",
     "text": [
      "Enter a string: abccc\n",
      "NO\n"
     ]
    }
   ],
   "source": [
    "input_string = input(\"Enter a string: \")\n",
    "result = is_valid_string(input_string)\n",
    "print(result)"
   ]
  },
  {
   "cell_type": "markdown",
   "id": "ddd79804",
   "metadata": {},
   "source": [
    "this string \"abccc\" is not valid, because after removal of 1 c, we will left with \"abcc\" which is not valid."
   ]
  }
 ],
 "metadata": {
  "kernelspec": {
   "display_name": "Python 3 (ipykernel)",
   "language": "python",
   "name": "python3"
  },
  "language_info": {
   "codemirror_mode": {
    "name": "ipython",
    "version": 3
   },
   "file_extension": ".py",
   "mimetype": "text/x-python",
   "name": "python",
   "nbconvert_exporter": "python",
   "pygments_lexer": "ipython3",
   "version": "3.9.12"
  }
 },
 "nbformat": 4,
 "nbformat_minor": 5
}
