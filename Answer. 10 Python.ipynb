{
 "cells": [
  {
   "cell_type": "markdown",
   "id": "a19d5ebc",
   "metadata": {},
   "source": [
    "Question 10 -\n",
    "Write a program to count the number of verbs, nouns, pronouns, and adjectives in a given particular phrase or\n",
    "paragraph, and return their respective count as a dictionary.\n",
    "Note -\n",
    "1. Write code comments wherever required for code\n",
    "2. You have to write at least 2 additional test cases in which your program will run successfully and provide\n",
    "an explanation for the same."
   ]
  },
  {
   "cell_type": "code",
   "execution_count": null,
   "id": "2ebb9846",
   "metadata": {},
   "outputs": [],
   "source": []
  },
  {
   "cell_type": "code",
   "execution_count": 2,
   "id": "1c181029",
   "metadata": {},
   "outputs": [],
   "source": [
    "import nltk\n",
    "from nltk.tokenize import word_tokenize\n",
    "from nltk.tag import pos_tag"
   ]
  },
  {
   "cell_type": "code",
   "execution_count": 6,
   "id": "c7bc774b",
   "metadata": {},
   "outputs": [
    {
     "name": "stderr",
     "output_type": "stream",
     "text": [
      "[nltk_data] Downloading package averaged_perceptron_tagger to\n",
      "[nltk_data]     C:\\Users\\Shailendra\\AppData\\Roaming\\nltk_data...\n",
      "[nltk_data]   Unzipping taggers\\averaged_perceptron_tagger.zip.\n"
     ]
    },
    {
     "data": {
      "text/plain": [
       "True"
      ]
     },
     "execution_count": 6,
     "metadata": {},
     "output_type": "execute_result"
    }
   ],
   "source": [
    "nltk.download('averaged_perceptron_tagger')"
   ]
  },
  {
   "cell_type": "code",
   "execution_count": 7,
   "id": "a7e9e1d7",
   "metadata": {},
   "outputs": [
    {
     "name": "stdout",
     "output_type": "stream",
     "text": [
      "{'verbs': 1, 'nouns': 3, 'pronouns': 0, 'adjectives': 2}\n"
     ]
    }
   ],
   "source": [
    "def count_pos_tags(text):\n",
    "    # Tokenize the text into words\n",
    "    words = word_tokenize(text)\n",
    "\n",
    "    # Perform Part-of-Speech tagging\n",
    "    tagged_words = pos_tag(words)\n",
    "\n",
    "    # Initialize count variables\n",
    "    verb_count = 0\n",
    "    noun_count = 0\n",
    "    pronoun_count = 0\n",
    "    adjective_count = 0\n",
    "\n",
    "    # Iterate over tagged words and count POS tags\n",
    "    for word, tag in tagged_words:\n",
    "        if tag.startswith('VB'):\n",
    "            verb_count += 1\n",
    "        elif tag.startswith('NN'):\n",
    "            noun_count += 1\n",
    "        elif tag.startswith('PRP'):\n",
    "            pronoun_count += 1\n",
    "        elif tag.startswith('JJ'):\n",
    "            adjective_count += 1\n",
    "\n",
    "    # Create a dictionary of counts\n",
    "    counts = {\n",
    "        'verbs': verb_count,\n",
    "        'nouns': noun_count,\n",
    "        'pronouns': pronoun_count,\n",
    "        'adjectives': adjective_count\n",
    "    }\n",
    "\n",
    "    return counts\n",
    "\n",
    "# Test case\n",
    "text = \"The quick brown fox jumps over the lazy dog.\"\n",
    "result = count_pos_tags(text)\n",
    "print(result)"
   ]
  },
  {
   "cell_type": "code",
   "execution_count": 9,
   "id": "3f09eec8",
   "metadata": {},
   "outputs": [
    {
     "data": {
      "text/plain": [
       "{'verbs': 3, 'nouns': 13, 'pronouns': 1, 'adjectives': 0}"
      ]
     },
     "execution_count": 9,
     "metadata": {},
     "output_type": "execute_result"
    }
   ],
   "source": [
    "count_pos_tags('To count the number of verbs, nouns, pronouns, and adjectives in a given phrase or paragraph, we can use the Natural Language Toolkit (NLTK) library in Python.')"
   ]
  },
  {
   "cell_type": "code",
   "execution_count": 10,
   "id": "5609d4a1",
   "metadata": {},
   "outputs": [
    {
     "data": {
      "text/plain": [
       "{'verbs': 3, 'nouns': 4, 'pronouns': 1, 'adjectives': 2}"
      ]
     },
     "execution_count": 10,
     "metadata": {},
     "output_type": "execute_result"
    }
   ],
   "source": [
    "count_pos_tags('Get all the cars and their types that do not qualify for clean alternative fuel vehicle')"
   ]
  }
 ],
 "metadata": {
  "kernelspec": {
   "display_name": "Python 3 (ipykernel)",
   "language": "python",
   "name": "python3"
  },
  "language_info": {
   "codemirror_mode": {
    "name": "ipython",
    "version": 3
   },
   "file_extension": ".py",
   "mimetype": "text/x-python",
   "name": "python",
   "nbconvert_exporter": "python",
   "pygments_lexer": "ipython3",
   "version": "3.9.12"
  }
 },
 "nbformat": 4,
 "nbformat_minor": 5
}
